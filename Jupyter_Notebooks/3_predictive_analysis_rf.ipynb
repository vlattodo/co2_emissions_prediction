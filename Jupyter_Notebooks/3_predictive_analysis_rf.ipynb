{
 "cells": [
  {
   "cell_type": "markdown",
   "metadata": {},
   "source": [
    "# Prediction of CO2 emissions from country-specific data\n",
    "# A Machine Learning project \n",
    "### by Vladislav Todorov\n",
    "\n",
    "***\n",
    "\n",
    "# Stage 3: Predictive data analysis with the Random Forest machine learning algorithm\n",
    "\n",
    "***\n",
    "\n",
    "### Notebook Contents:\n",
    "\n",
    "0. Introduction - project and notebook summaries, notes on the data source\n",
    "1. Notebook setup - libraries and data import, dealing with randomness in the algorithms\n",
    "2. Data overview\n",
    "3. Used feature/column abbreviations\n",
    "3. Hypothesis to be tested\n",
    "4. Selection of dependent and independent variables\n",
    "5. Dataset splitting into training and testing subsets\n",
    "6. Feature selection with recursive feature elimination and cross-validation\n",
    "7. Hyperparameter tuning of a random forest model with cross-validation\n",
    "8. Train and evaluate the model with the best hyperparameters on the training data with cross-validation\n",
    "9. Validate the model on the test subset (previously unseen data)\n",
    "10. Conclusions\n",
    "\n",
    "***\n",
    "\n",
    "## 0. Introduction\n",
    "\n",
    "## Project summary\n",
    "**Aim of the project**:\n",
    "Analysis of country-specific data and development of machine learning models in order to predict CO2 emissions from country parameters. The project uses the publicly available dataset Climate Change Data from the World Bank Group, which provides data on the vast majority of countries over a range of years for parameters such as:\n",
    "\n",
    "   - country: the vast majority of countries worldwide\n",
    "   - year: ranging from 1990 to 2011\n",
    "   - CO2 emissions\n",
    "   - energy use\n",
    "   - population count\n",
    "   - urban population\n",
    "   - cereal yield\n",
    "   - nationally terrestrial protected areas\n",
    "   - GDP, GNI\n",
    "   - etc.\n",
    "\n",
    "The project is divided into three stages:\n",
    "\n",
    "1. Data cleaning and preparation\n",
    "2. Data exploration and visualization\n",
    "3. Predictive analysis with the Random Forest machine learning algorithm\n",
    "\n",
    "Each of the stages is described in a separate Jupyter Notebook(.ipynb file) and a derived pdf file.\n",
    "\n",
    "***\n",
    "\n",
    "## Notebook summary - Stage 3: Predictive data analysis with the Random Forest machine learning algorithm\n",
    "\n",
    "**Aim of this notebook**: This notebook will show the steps taken to develop a predictive Random Forest model by using the scikit-learn library. \n",
    "\n",
    "**Input**:\n",
    "* csv data file produced by the script 1_data_exploration.py (output of Stage 1)\n",
    "* trends and relationship insights gained during data visualization (output of Stage2)\n",
    "\n",
    "**Output**:\n",
    "* a predictive Random Forest model and its corresponding metrics by evaluating unseen data\n",
    "\n",
    "**Programming language**: Python 3.7\n",
    "\n",
    "**Libraries used in this notebook**: sklearn, numpy, pandas, seaborn, matplotlib, sys\n",
    "\n",
    "***\n",
    "\n",
    "### Data source\n",
    "\n",
    "The used data comes from the Climate Change Data of the World Bank Group, which provides country-specific data on parameters such as CO2 emissions, energy use, population count, urban population, cereal yield, nationally terrestrial protected areas, GDP, GNI, etc.\n",
    "\n",
    "\n",
    "The dataset is publicly available at https://datacatalog.worldbank.org/dataset/climate-change-data and licenced under the <a href=\"https://datacatalog.worldbank.org/public-licenses#cc-by\">Creative Commons Attribution 4.0 International license</a>.\n",
    "\n",
    "***"
   ]
  },
  {
   "cell_type": "markdown",
   "metadata": {},
   "source": [
    "## 1. Notebook Setup\n",
    "Libraries and dataset import:"
   ]
  },
  {
   "cell_type": "code",
   "execution_count": 1,
   "metadata": {},
   "outputs": [],
   "source": [
    "# import all needed libraries\n",
    "import pandas as pd\n",
    "import numpy as np\n",
    "import numpy.random as nr\n",
    "import sys\n",
    "import seaborn as sns\n",
    "import matplotlib.pyplot as plt\n",
    "\n",
    "import sklearn.model_selection as ms\n",
    "from sklearn.model_selection import cross_val_score, train_test_split\n",
    "from sklearn.ensemble import RandomForestRegressor\n",
    "from sklearn import feature_selection as fs\n",
    "\n",
    "# load the cleaned dataset\n",
    "data = pd.read_csv(r'data_cleaned.csv')"
   ]
  },
  {
   "cell_type": "markdown",
   "metadata": {},
   "source": [
    "### Dealing with randomness in the algorithms\n",
    "\n",
    "Since multiple methods involve certain levels of randomness (e.g. during the trees definition in the random forest algorithm, the dataset splitting and the cross-validations), it is necessary to ensure the reproducibility of the results at each script run. This is done by setting a random_state parameters for all these actions, as well as the state of randomness before each of them by numpy.random.seed():"
   ]
  },
  {
   "cell_type": "code",
   "execution_count": 2,
   "metadata": {},
   "outputs": [],
   "source": [
    "# define a random state number for all random operations - ensures reproducibility of all results\n",
    "random_state_num = 0"
   ]
  },
  {
   "cell_type": "markdown",
   "metadata": {},
   "source": [
    "***\n",
    "\n",
    "## 2. Overview of the available data\n",
    "A global overview of the imported data yields the following insights:"
   ]
  },
  {
   "cell_type": "code",
   "execution_count": 3,
   "metadata": {},
   "outputs": [
    {
     "name": "stdout",
     "output_type": "stream",
     "text": [
      "Shape of the dataset:\n"
     ]
    },
    {
     "data": {
      "text/plain": [
       "(1700, 18)"
      ]
     },
     "execution_count": 3,
     "metadata": {},
     "output_type": "execute_result"
    }
   ],
   "source": [
    "print(\"Shape of the dataset:\")\n",
    "data.shape"
   ]
  },
  {
   "cell_type": "code",
   "execution_count": 4,
   "metadata": {},
   "outputs": [
    {
     "name": "stdout",
     "output_type": "stream",
     "text": [
      "available columns and their data types:\n"
     ]
    },
    {
     "data": {
      "text/plain": [
       "country                 object\n",
       "year                     int64\n",
       "cereal_yield           float64\n",
       "fdi_perc_gdp           float64\n",
       "en_per_gdp             float64\n",
       "en_per_cap             float64\n",
       "co2_ttl                float64\n",
       "co2_per_cap            float64\n",
       "co2_per_gdp            float64\n",
       "pop_urb_aggl_perc      float64\n",
       "prot_area_perc         float64\n",
       "gdp                    float64\n",
       "gni_per_cap            float64\n",
       "under_5_mort_rate      float64\n",
       "pop_growth_perc        float64\n",
       "pop                    float64\n",
       "urb_pop_growth_perc    float64\n",
       "urb_pop                float64\n",
       "dtype: object"
      ]
     },
     "execution_count": 4,
     "metadata": {},
     "output_type": "execute_result"
    }
   ],
   "source": [
    "print(\"available columns and their data types:\")\n",
    "data.dtypes"
   ]
  },
  {
   "cell_type": "code",
   "execution_count": 5,
   "metadata": {},
   "outputs": [
    {
     "name": "stdout",
     "output_type": "stream",
     "text": [
      "Overview of the first 5 rows:\n"
     ]
    },
    {
     "data": {
      "text/html": [
       "<div>\n",
       "<style scoped>\n",
       "    .dataframe tbody tr th:only-of-type {\n",
       "        vertical-align: middle;\n",
       "    }\n",
       "\n",
       "    .dataframe tbody tr th {\n",
       "        vertical-align: top;\n",
       "    }\n",
       "\n",
       "    .dataframe thead th {\n",
       "        text-align: right;\n",
       "    }\n",
       "</style>\n",
       "<table border=\"1\" class=\"dataframe\">\n",
       "  <thead>\n",
       "    <tr style=\"text-align: right;\">\n",
       "      <th></th>\n",
       "      <th>country</th>\n",
       "      <th>year</th>\n",
       "      <th>cereal_yield</th>\n",
       "      <th>fdi_perc_gdp</th>\n",
       "      <th>en_per_gdp</th>\n",
       "      <th>en_per_cap</th>\n",
       "      <th>co2_ttl</th>\n",
       "      <th>co2_per_cap</th>\n",
       "      <th>co2_per_gdp</th>\n",
       "      <th>pop_urb_aggl_perc</th>\n",
       "      <th>prot_area_perc</th>\n",
       "      <th>gdp</th>\n",
       "      <th>gni_per_cap</th>\n",
       "      <th>under_5_mort_rate</th>\n",
       "      <th>pop_growth_perc</th>\n",
       "      <th>pop</th>\n",
       "      <th>urb_pop_growth_perc</th>\n",
       "      <th>urb_pop</th>\n",
       "    </tr>\n",
       "  </thead>\n",
       "  <tbody>\n",
       "    <tr>\n",
       "      <th>0</th>\n",
       "      <td>AGO</td>\n",
       "      <td>1991</td>\n",
       "      <td>417.4</td>\n",
       "      <td>5.449515</td>\n",
       "      <td>179.271884</td>\n",
       "      <td>565.451027</td>\n",
       "      <td>4367.397</td>\n",
       "      <td>0.409949</td>\n",
       "      <td>129.971142</td>\n",
       "      <td>15.290728</td>\n",
       "      <td>12.399822</td>\n",
       "      <td>1.219375e+10</td>\n",
       "      <td>820.0</td>\n",
       "      <td>239.1</td>\n",
       "      <td>3.034866</td>\n",
       "      <td>10653515.0</td>\n",
       "      <td>6.687032</td>\n",
       "      <td>4.099473e+06</td>\n",
       "    </tr>\n",
       "    <tr>\n",
       "      <th>1</th>\n",
       "      <td>ARE</td>\n",
       "      <td>1991</td>\n",
       "      <td>1594.0</td>\n",
       "      <td>0.076475</td>\n",
       "      <td>245.977706</td>\n",
       "      <td>12262.388130</td>\n",
       "      <td>57010.849</td>\n",
       "      <td>29.851550</td>\n",
       "      <td>598.807980</td>\n",
       "      <td>26.377204</td>\n",
       "      <td>0.266886</td>\n",
       "      <td>3.391964e+10</td>\n",
       "      <td>19340.0</td>\n",
       "      <td>20.5</td>\n",
       "      <td>5.442852</td>\n",
       "      <td>1909812.0</td>\n",
       "      <td>5.265704</td>\n",
       "      <td>1.507988e+06</td>\n",
       "    </tr>\n",
       "    <tr>\n",
       "      <th>2</th>\n",
       "      <td>ARG</td>\n",
       "      <td>1991</td>\n",
       "      <td>2666.1</td>\n",
       "      <td>1.285579</td>\n",
       "      <td>173.122857</td>\n",
       "      <td>1434.960601</td>\n",
       "      <td>117021.304</td>\n",
       "      <td>3.536073</td>\n",
       "      <td>426.614517</td>\n",
       "      <td>39.119646</td>\n",
       "      <td>4.772468</td>\n",
       "      <td>1.897200e+11</td>\n",
       "      <td>3960.0</td>\n",
       "      <td>25.8</td>\n",
       "      <td>1.372593</td>\n",
       "      <td>33093579.0</td>\n",
       "      <td>1.762636</td>\n",
       "      <td>2.890393e+07</td>\n",
       "    </tr>\n",
       "    <tr>\n",
       "      <th>3</th>\n",
       "      <td>AUS</td>\n",
       "      <td>1991</td>\n",
       "      <td>1603.3</td>\n",
       "      <td>1.306912</td>\n",
       "      <td>208.686644</td>\n",
       "      <td>4926.727783</td>\n",
       "      <td>281530.258</td>\n",
       "      <td>16.288490</td>\n",
       "      <td>689.948873</td>\n",
       "      <td>60.356798</td>\n",
       "      <td>7.915273</td>\n",
       "      <td>3.299655e+11</td>\n",
       "      <td>18380.0</td>\n",
       "      <td>8.6</td>\n",
       "      <td>1.274577</td>\n",
       "      <td>17284000.0</td>\n",
       "      <td>1.438378</td>\n",
       "      <td>1.478473e+07</td>\n",
       "    </tr>\n",
       "    <tr>\n",
       "      <th>4</th>\n",
       "      <td>AUT</td>\n",
       "      <td>1991</td>\n",
       "      <td>5463.0</td>\n",
       "      <td>0.209142</td>\n",
       "      <td>128.939160</td>\n",
       "      <td>3381.073790</td>\n",
       "      <td>65888.656</td>\n",
       "      <td>8.448456</td>\n",
       "      <td>322.186648</td>\n",
       "      <td>19.746121</td>\n",
       "      <td>20.991143</td>\n",
       "      <td>1.721664e+11</td>\n",
       "      <td>21200.0</td>\n",
       "      <td>8.9</td>\n",
       "      <td>1.134999</td>\n",
       "      <td>7798899.0</td>\n",
       "      <td>1.134999</td>\n",
       "      <td>5.131676e+06</td>\n",
       "    </tr>\n",
       "  </tbody>\n",
       "</table>\n",
       "</div>"
      ],
      "text/plain": [
       "  country  year  cereal_yield  fdi_perc_gdp  en_per_gdp    en_per_cap  \\\n",
       "0     AGO  1991         417.4      5.449515  179.271884    565.451027   \n",
       "1     ARE  1991        1594.0      0.076475  245.977706  12262.388130   \n",
       "2     ARG  1991        2666.1      1.285579  173.122857   1434.960601   \n",
       "3     AUS  1991        1603.3      1.306912  208.686644   4926.727783   \n",
       "4     AUT  1991        5463.0      0.209142  128.939160   3381.073790   \n",
       "\n",
       "      co2_ttl  co2_per_cap  co2_per_gdp  pop_urb_aggl_perc  prot_area_perc  \\\n",
       "0    4367.397     0.409949   129.971142          15.290728       12.399822   \n",
       "1   57010.849    29.851550   598.807980          26.377204        0.266886   \n",
       "2  117021.304     3.536073   426.614517          39.119646        4.772468   \n",
       "3  281530.258    16.288490   689.948873          60.356798        7.915273   \n",
       "4   65888.656     8.448456   322.186648          19.746121       20.991143   \n",
       "\n",
       "            gdp  gni_per_cap  under_5_mort_rate  pop_growth_perc         pop  \\\n",
       "0  1.219375e+10        820.0              239.1         3.034866  10653515.0   \n",
       "1  3.391964e+10      19340.0               20.5         5.442852   1909812.0   \n",
       "2  1.897200e+11       3960.0               25.8         1.372593  33093579.0   \n",
       "3  3.299655e+11      18380.0                8.6         1.274577  17284000.0   \n",
       "4  1.721664e+11      21200.0                8.9         1.134999   7798899.0   \n",
       "\n",
       "   urb_pop_growth_perc       urb_pop  \n",
       "0             6.687032  4.099473e+06  \n",
       "1             5.265704  1.507988e+06  \n",
       "2             1.762636  2.890393e+07  \n",
       "3             1.438378  1.478473e+07  \n",
       "4             1.134999  5.131676e+06  "
      ]
     },
     "execution_count": 5,
     "metadata": {},
     "output_type": "execute_result"
    }
   ],
   "source": [
    "print(\"Overview of the first 5 rows:\")\n",
    "data.head()"
   ]
  },
  {
   "cell_type": "code",
   "execution_count": 6,
   "metadata": {},
   "outputs": [
    {
     "name": "stdout",
     "output_type": "stream",
     "text": [
      "Descriptive statistics:\n"
     ]
    },
    {
     "data": {
      "text/html": [
       "<div>\n",
       "<style scoped>\n",
       "    .dataframe tbody tr th:only-of-type {\n",
       "        vertical-align: middle;\n",
       "    }\n",
       "\n",
       "    .dataframe tbody tr th {\n",
       "        vertical-align: top;\n",
       "    }\n",
       "\n",
       "    .dataframe thead th {\n",
       "        text-align: right;\n",
       "    }\n",
       "</style>\n",
       "<table border=\"1\" class=\"dataframe\">\n",
       "  <thead>\n",
       "    <tr style=\"text-align: right;\">\n",
       "      <th></th>\n",
       "      <th>year</th>\n",
       "      <th>cereal_yield</th>\n",
       "      <th>fdi_perc_gdp</th>\n",
       "      <th>en_per_gdp</th>\n",
       "      <th>en_per_cap</th>\n",
       "      <th>co2_ttl</th>\n",
       "      <th>co2_per_cap</th>\n",
       "      <th>co2_per_gdp</th>\n",
       "      <th>pop_urb_aggl_perc</th>\n",
       "      <th>prot_area_perc</th>\n",
       "      <th>gdp</th>\n",
       "      <th>gni_per_cap</th>\n",
       "      <th>under_5_mort_rate</th>\n",
       "      <th>pop_growth_perc</th>\n",
       "      <th>pop</th>\n",
       "      <th>urb_pop_growth_perc</th>\n",
       "      <th>urb_pop</th>\n",
       "    </tr>\n",
       "  </thead>\n",
       "  <tbody>\n",
       "    <tr>\n",
       "      <th>count</th>\n",
       "      <td>1700.000000</td>\n",
       "      <td>1700.000000</td>\n",
       "      <td>1700.000000</td>\n",
       "      <td>1700.000000</td>\n",
       "      <td>1700.000000</td>\n",
       "      <td>1.700000e+03</td>\n",
       "      <td>1700.000000</td>\n",
       "      <td>1700.000000</td>\n",
       "      <td>1700.000000</td>\n",
       "      <td>1700.000000</td>\n",
       "      <td>1.700000e+03</td>\n",
       "      <td>1700.000000</td>\n",
       "      <td>1700.000000</td>\n",
       "      <td>1700.000000</td>\n",
       "      <td>1.700000e+03</td>\n",
       "      <td>1700.000000</td>\n",
       "      <td>1.700000e+03</td>\n",
       "    </tr>\n",
       "    <tr>\n",
       "      <th>mean</th>\n",
       "      <td>1999.570588</td>\n",
       "      <td>3013.317581</td>\n",
       "      <td>2.948940</td>\n",
       "      <td>249.822736</td>\n",
       "      <td>1968.979736</td>\n",
       "      <td>9.793999e+05</td>\n",
       "      <td>4.676663</td>\n",
       "      <td>482.303784</td>\n",
       "      <td>21.480126</td>\n",
       "      <td>12.201789</td>\n",
       "      <td>1.058568e+12</td>\n",
       "      <td>7898.668664</td>\n",
       "      <td>51.971955</td>\n",
       "      <td>1.451313</td>\n",
       "      <td>3.060142e+08</td>\n",
       "      <td>2.252231</td>\n",
       "      <td>1.347903e+08</td>\n",
       "    </tr>\n",
       "    <tr>\n",
       "      <th>std</th>\n",
       "      <td>5.143070</td>\n",
       "      <td>1796.206082</td>\n",
       "      <td>3.949722</td>\n",
       "      <td>186.195019</td>\n",
       "      <td>1959.419972</td>\n",
       "      <td>3.235692e+06</td>\n",
       "      <td>4.906273</td>\n",
       "      <td>392.192230</td>\n",
       "      <td>12.105158</td>\n",
       "      <td>9.116682</td>\n",
       "      <td>3.921323e+12</td>\n",
       "      <td>11592.516937</td>\n",
       "      <td>51.332162</td>\n",
       "      <td>1.129312</td>\n",
       "      <td>9.482329e+08</td>\n",
       "      <td>1.642009</td>\n",
       "      <td>4.145755e+08</td>\n",
       "    </tr>\n",
       "    <tr>\n",
       "      <th>min</th>\n",
       "      <td>1991.000000</td>\n",
       "      <td>175.700000</td>\n",
       "      <td>-15.027675</td>\n",
       "      <td>66.335372</td>\n",
       "      <td>116.511476</td>\n",
       "      <td>7.077310e+02</td>\n",
       "      <td>0.029411</td>\n",
       "      <td>45.552592</td>\n",
       "      <td>3.526316</td>\n",
       "      <td>0.000000</td>\n",
       "      <td>9.826326e+08</td>\n",
       "      <td>80.000000</td>\n",
       "      <td>3.200000</td>\n",
       "      <td>-2.397174</td>\n",
       "      <td>1.909812e+06</td>\n",
       "      <td>-2.757210</td>\n",
       "      <td>1.151309e+06</td>\n",
       "    </tr>\n",
       "    <tr>\n",
       "      <th>25%</th>\n",
       "      <td>1995.000000</td>\n",
       "      <td>1683.364736</td>\n",
       "      <td>0.834105</td>\n",
       "      <td>136.320490</td>\n",
       "      <td>542.882788</td>\n",
       "      <td>1.462125e+04</td>\n",
       "      <td>0.922769</td>\n",
       "      <td>257.139562</td>\n",
       "      <td>12.383953</td>\n",
       "      <td>5.839844</td>\n",
       "      <td>1.636221e+10</td>\n",
       "      <td>780.000000</td>\n",
       "      <td>10.000000</td>\n",
       "      <td>0.630306</td>\n",
       "      <td>9.973065e+06</td>\n",
       "      <td>0.925308</td>\n",
       "      <td>5.469794e+06</td>\n",
       "    </tr>\n",
       "    <tr>\n",
       "      <th>50%</th>\n",
       "      <td>2000.000000</td>\n",
       "      <td>2584.800000</td>\n",
       "      <td>1.993220</td>\n",
       "      <td>197.624918</td>\n",
       "      <td>1089.225939</td>\n",
       "      <td>7.728386e+04</td>\n",
       "      <td>3.093346</td>\n",
       "      <td>368.415567</td>\n",
       "      <td>18.525960</td>\n",
       "      <td>10.293791</td>\n",
       "      <td>9.882942e+10</td>\n",
       "      <td>2150.770301</td>\n",
       "      <td>32.350000</td>\n",
       "      <td>1.519890</td>\n",
       "      <td>2.689207e+07</td>\n",
       "      <td>2.315122</td>\n",
       "      <td>1.423239e+07</td>\n",
       "    </tr>\n",
       "    <tr>\n",
       "      <th>75%</th>\n",
       "      <td>2004.000000</td>\n",
       "      <td>3933.400000</td>\n",
       "      <td>3.702149</td>\n",
       "      <td>286.474936</td>\n",
       "      <td>2893.996077</td>\n",
       "      <td>3.708446e+05</td>\n",
       "      <td>7.441195</td>\n",
       "      <td>586.972993</td>\n",
       "      <td>28.988324</td>\n",
       "      <td>16.599298</td>\n",
       "      <td>4.122600e+11</td>\n",
       "      <td>9205.000000</td>\n",
       "      <td>79.925741</td>\n",
       "      <td>2.276853</td>\n",
       "      <td>8.234386e+07</td>\n",
       "      <td>3.364747</td>\n",
       "      <td>4.835246e+07</td>\n",
       "    </tr>\n",
       "    <tr>\n",
       "      <th>max</th>\n",
       "      <td>2008.000000</td>\n",
       "      <td>8410.800000</td>\n",
       "      <td>51.373951</td>\n",
       "      <td>1383.380011</td>\n",
       "      <td>12607.839262</td>\n",
       "      <td>3.064936e+07</td>\n",
       "      <td>37.106499</td>\n",
       "      <td>3343.454250</td>\n",
       "      <td>60.505780</td>\n",
       "      <td>53.749825</td>\n",
       "      <td>5.580488e+13</td>\n",
       "      <td>58620.000000</td>\n",
       "      <td>239.100000</td>\n",
       "      <td>11.180657</td>\n",
       "      <td>6.610030e+09</td>\n",
       "      <td>12.829046</td>\n",
       "      <td>3.264974e+09</td>\n",
       "    </tr>\n",
       "  </tbody>\n",
       "</table>\n",
       "</div>"
      ],
      "text/plain": [
       "              year  cereal_yield  fdi_perc_gdp   en_per_gdp    en_per_cap  \\\n",
       "count  1700.000000   1700.000000   1700.000000  1700.000000   1700.000000   \n",
       "mean   1999.570588   3013.317581      2.948940   249.822736   1968.979736   \n",
       "std       5.143070   1796.206082      3.949722   186.195019   1959.419972   \n",
       "min    1991.000000    175.700000    -15.027675    66.335372    116.511476   \n",
       "25%    1995.000000   1683.364736      0.834105   136.320490    542.882788   \n",
       "50%    2000.000000   2584.800000      1.993220   197.624918   1089.225939   \n",
       "75%    2004.000000   3933.400000      3.702149   286.474936   2893.996077   \n",
       "max    2008.000000   8410.800000     51.373951  1383.380011  12607.839262   \n",
       "\n",
       "            co2_ttl  co2_per_cap  co2_per_gdp  pop_urb_aggl_perc  \\\n",
       "count  1.700000e+03  1700.000000  1700.000000        1700.000000   \n",
       "mean   9.793999e+05     4.676663   482.303784          21.480126   \n",
       "std    3.235692e+06     4.906273   392.192230          12.105158   \n",
       "min    7.077310e+02     0.029411    45.552592           3.526316   \n",
       "25%    1.462125e+04     0.922769   257.139562          12.383953   \n",
       "50%    7.728386e+04     3.093346   368.415567          18.525960   \n",
       "75%    3.708446e+05     7.441195   586.972993          28.988324   \n",
       "max    3.064936e+07    37.106499  3343.454250          60.505780   \n",
       "\n",
       "       prot_area_perc           gdp   gni_per_cap  under_5_mort_rate  \\\n",
       "count     1700.000000  1.700000e+03   1700.000000        1700.000000   \n",
       "mean        12.201789  1.058568e+12   7898.668664          51.971955   \n",
       "std          9.116682  3.921323e+12  11592.516937          51.332162   \n",
       "min          0.000000  9.826326e+08     80.000000           3.200000   \n",
       "25%          5.839844  1.636221e+10    780.000000          10.000000   \n",
       "50%         10.293791  9.882942e+10   2150.770301          32.350000   \n",
       "75%         16.599298  4.122600e+11   9205.000000          79.925741   \n",
       "max         53.749825  5.580488e+13  58620.000000         239.100000   \n",
       "\n",
       "       pop_growth_perc           pop  urb_pop_growth_perc       urb_pop  \n",
       "count      1700.000000  1.700000e+03          1700.000000  1.700000e+03  \n",
       "mean          1.451313  3.060142e+08             2.252231  1.347903e+08  \n",
       "std           1.129312  9.482329e+08             1.642009  4.145755e+08  \n",
       "min          -2.397174  1.909812e+06            -2.757210  1.151309e+06  \n",
       "25%           0.630306  9.973065e+06             0.925308  5.469794e+06  \n",
       "50%           1.519890  2.689207e+07             2.315122  1.423239e+07  \n",
       "75%           2.276853  8.234386e+07             3.364747  4.835246e+07  \n",
       "max          11.180657  6.610030e+09            12.829046  3.264974e+09  "
      ]
     },
     "execution_count": 6,
     "metadata": {},
     "output_type": "execute_result"
    }
   ],
   "source": [
    "print(\"Descriptive statistics:\")\n",
    "data.describe()"
   ]
  },
  {
   "cell_type": "markdown",
   "metadata": {},
   "source": [
    "### Dealing with outliers\n",
    "\n",
    "Stage 2 (Data exploration and visualization of the project) has revealed a group of outliers far away from the main data point group for almost all analyzed relationships. These correspond to the data series on the country code *ARE* (standing for the United Arab Emirates).\n",
    "\n",
    "For the purpose of clearer representation of the model results and a better understanding of its functionality, these outliers will be removed from the further analysis:"
   ]
  },
  {
   "cell_type": "code",
   "execution_count": 7,
   "metadata": {},
   "outputs": [
    {
     "name": "stdout",
     "output_type": "stream",
     "text": [
      "Shape of the dataset after removing the ARE outliers:\n"
     ]
    },
    {
     "data": {
      "text/plain": [
       "(1686, 18)"
      ]
     },
     "execution_count": 7,
     "metadata": {},
     "output_type": "execute_result"
    }
   ],
   "source": [
    "# remove the ARE outliers\n",
    "data = data[data['country']!='ARE']\n",
    "\n",
    "# print shape after removing the outliers\n",
    "print(\"Shape of the dataset after removing the ARE outliers:\")\n",
    "data.shape"
   ]
  },
  {
   "cell_type": "markdown",
   "metadata": {},
   "source": [
    "***\n",
    "\n",
    "## 3. Used feature/column abbreviations\n",
    "\n",
    "The features/columns were given in Stage 1 clearer abbreviations in order to ensure easies understanding, representation and coding. These are listed in the following table together with the corresponding units:\n",
    "\n",
    "<table>\n",
    "    <tr>\n",
    "        <td> <b> Variable name </b> </td>\n",
    "        <td> <b> Description </b> </td>\n",
    "        <td> <b> Unit </b> </td>\n",
    "    </tr>\n",
    "    <tr>\n",
    "        <td> cereal_yield </td>\n",
    "        <td> Cereal yield </td>\n",
    "        <td> kg per hectare </td>\n",
    "    </tr>\n",
    "    <tr>\n",
    "        <td> fdi_perc_gdp </td>\n",
    "        <td> Foreign direct investment, net inflows </td>\n",
    "        <td> % of GDP </td>\n",
    "    </tr>\n",
    "    <tr>\n",
    "        <td> en_per_gdp </td>\n",
    "        <td> Energy use per units of GDP </td>\n",
    "        <td> kg oil eq./\\$1,000 of 2005 PPP \\$ </td>\n",
    "    </tr>\n",
    "    <tr>\n",
    "        <td> en_per_cap </td>\n",
    "        <td> Energy use per capita </td>\n",
    "        <td> kilograms of oil equivalent </td>\n",
    "    </tr>\n",
    "    <tr>\n",
    "        <td> co2_ttl </td>\n",
    "        <td> CO2 emissions, total </td>\n",
    "        <td> KtCO2 </td>\n",
    "    </tr>\n",
    "    <tr>\n",
    "        <td> co2_per_cap </td>\n",
    "        <td> CO2 emissions per capita </td>\n",
    "        <td> metric tons </td>\n",
    "    </tr>\n",
    "    <tr>\n",
    "        <td> co2_per_gdp </td>\n",
    "        <td> CO2 emissions per units of GDP </td>\n",
    "        <td> kg/\\$1,000 of 2005 PPP \\$ </td>\n",
    "    </tr>\n",
    "    <tr>\n",
    "        <td> pop_urb_aggl_perc </td>\n",
    "        <td> Population in urban agglomerations >1million </td>\n",
    "        <td> % </td>\n",
    "    </tr>\n",
    "    <tr>\n",
    "        <td> prot_area_perc </td>\n",
    "        <td> Nationally terrestrial protected areas </td>\n",
    "        <td> % of total land area </td>\n",
    "    </tr>\n",
    "    <tr>\n",
    "        <td> gdp </td>\n",
    "        <td> Gross Domestic Product (GDP) </td>\n",
    "        <td> \\$ </td>\n",
    "    </tr>\n",
    "    <tr>\n",
    "        <td> gni_per_cap </td>\n",
    "        <td> GNI per capita </td>\n",
    "        <td> Atlas \\$ </td>\n",
    "    </tr>\n",
    "    <tr>\n",
    "        <td> under_5_mort_rate </td>\n",
    "        <td> Under-five mortality rate </td>\n",
    "        <td> per 1,000 </td>\n",
    "    </tr>\n",
    "    <tr>\n",
    "        <td> pop_growth_perc </td>\n",
    "        <td> Population growth </td>\n",
    "        <td> annual % </td>\n",
    "    </tr>\n",
    "    <tr>\n",
    "        <td> pop </td>\n",
    "        <td> Population </td>\n",
    "        <td> 1 </td>\n",
    "    </tr>\n",
    "    <tr>\n",
    "        <td> urb_pop_growth_perc </td>\n",
    "        <td> Urban population growth </td>\n",
    "        <td> annual % </td>\n",
    "    </tr>\n",
    "    <tr>\n",
    "        <td> urb_pop </td>\n",
    "        <td> Urban population </td>\n",
    "        <td> 1 </td>\n",
    "    </tr>\n",
    "    \n",
    "</table>"
   ]
  },
  {
   "cell_type": "markdown",
   "metadata": {},
   "source": [
    "***\n",
    "## 4. The hypothesis to be investigated\n",
    "\n",
    "**The hypothesis to be tested is defined as follows**: the CO2 emissions depend on the rest of the country-specific features available in the dataset such as energy use, various population metrics, GDP, FNI, cereal yield, etc. and can be predicted from these."
   ]
  },
  {
   "cell_type": "markdown",
   "metadata": {},
   "source": [
    "***\n",
    "\n",
    "## 5. Selection of dependent and independent variables\n",
    "\n",
    "During the previous stage of the project (Stage 2: Data exploration and visualization) were defined the features which have the biggest potential to build as many dependencies as possible. The features were chosen as follows:\n",
    "\n",
    "* dependent variable (DV) to be predicted: \n",
    "    - co2_percap*: CO2 emissions per capita (metric tons)\n",
    "* features/independent variables:\n",
    "    - 'cereal_yield': Cereal yield (kg per hectare)\n",
    "    - 'fdi_perc_gdp': Foreign direct investment, net inflows (% of GDP)\n",
    "    - 'gni_per_cap': GNI per capita (Atlas \\\\$)\n",
    "    - 'en_per_cap': Energy use per capita (kilograms of oil equivalent)\n",
    "    - 'pop_urb_aggl_perc': Population in urban agglomerations >1million (\\%)\n",
    "    - 'prot_area_perc': Nationally terrestrial protected areas (\\% of total land area)\n",
    "    - 'gdp': GDP (\\\\$)\n",
    "    - 'pop_growth_perc': Population growth (annual \\%)\n",
    "    - 'urb_pop_growth_perc': Urban population growth (annual \\%)\n",
    "\n",
    "\n",
    "These are accordingly defined as features (IVs) and labels (DV) and transformed to numpy arrays for the further input into the random forest model (the DV is denominated in the code as \"labels\"/\"label\":"
   ]
  },
  {
   "cell_type": "code",
   "execution_count": 8,
   "metadata": {},
   "outputs": [],
   "source": [
    "# choose features and label columns\n",
    "feature_cols = ['cereal_yield','fdi_perc_gdp','gni_per_cap', 'en_per_cap', 'pop_urb_aggl_perc',\n",
    "                    'prot_area_perc', 'gdp',  'pop_growth_perc', 'urb_pop_growth_perc']\n",
    "label_col = ['co2_per_cap']\n",
    "\n",
    "# convert into nympy arrays (required for scikit-learn models)\n",
    "features = np.array(data[feature_cols])\n",
    "labels =  np.array(data[label_col])"
   ]
  },
  {
   "cell_type": "markdown",
   "metadata": {},
   "source": [
    "***\n",
    "\n",
    "## 6. Dataset splitting into training and testing subsets\n",
    "\n",
    "The developed model should be validated on previously unseen data. For this purpose, the dataset will be divided into a training and testing subset with the ratio of 3:7 respectively. Additionally, in order to achieve better generalization of the predictions, cross-validation will be used on the training set for the purposes of feature selection, hyperparameter tuning and the evaluation of the model with the best features.\n",
    "\n",
    "The dataset splitting is executed in the following snippet:"
   ]
  },
  {
   "cell_type": "code",
   "execution_count": 9,
   "metadata": {},
   "outputs": [],
   "source": [
    "# split into training and testing subsets\n",
    "nr.seed(1)\n",
    "features_train, features_test, labels_train, labels_test = train_test_split(features,\n",
    "                                                                            labels,\n",
    "                                                                            test_size=0.7,\n",
    "                                                                            random_state=random_state_num)"
   ]
  },
  {
   "cell_type": "markdown",
   "metadata": {},
   "source": [
    "### Scaling of the features\n",
    "\n",
    "Some machine learning algorithmns like Linear or Logistic Regression require prior scaling/normalization of the variables in order to avoid a bias of the model towards variables with higher magnitude. However, since Random Forest is based on decision trees which do not rely on regression coefficients, such transformation is not necessary in this case.\n",
    "\n",
    "***\n",
    "\n",
    "## 7. Feature selection with cross-validation\n",
    "\n",
    "Having a high ratio of features to data points has the following disadvantages:\n",
    "* Not all features are expected to have an important influence when predicting the CO2 emissions.\n",
    "* Some features are correlated among each other and therefore partially duplicate their influence on the DV (multicollinearity of the variables). Having additional correlated features gives no additional information gain when learning the training set and is for some machine learning algorithms not allowed.\n",
    "* Sometimes a too many variables means too many degrees of freedom for the algorithm, leading to overfitting on the training set and therefore reducing prediction generalization/precision on newly unseen data.\n",
    "    \n",
    "This is why it is necessary to conduct feature selection, in other words - to decide which features would be most suitable for the current predictive challenge. For the purpose of better prediction generalization on new data, the features are selected by evaluating a Random Forest model for different combinationf of features involved, simultaneously using cross-validation.\n",
    "\n",
    "The feature ranking class sklearn.feature_selection.RFECV used here incorporates recursive feature elimination and cross-validated selections. Once fitted to the training data, it ranks the models with the different features by the R2 score and returns this rank. Consequently, only the most relevant features are kept for the further analysis for both the training and testing dataset (variables features_train_reduced and features_test_reduced)."
   ]
  },
  {
   "cell_type": "code",
   "execution_count": 10,
   "metadata": {},
   "outputs": [
    {
     "name": "stdout",
     "output_type": "stream",
     "text": [
      "Feature ranking after RFECV:\n",
      "[1 3 5 1 1 1 2 1 4]\n",
      "Chosen important features:\n",
      "['cereal_yield', 'en_per_cap', 'pop_urb_aggl_perc', 'prot_area_perc', 'pop_growth_perc']\n"
     ]
    }
   ],
   "source": [
    "# Set folds for cross validation for the feature selection\n",
    "nr.seed(1)\n",
    "feature_folds = ms.KFold(n_splits=4, shuffle = True, random_state=random_state_num)\n",
    "\n",
    "# Define the model\n",
    "rf_selector = RandomForestRegressor(random_state=random_state_num) \n",
    "\n",
    "# Define an objects for a model for recursive feature elimination with CV\n",
    "nr.seed(1)\n",
    "selector = fs.RFECV(estimator = rf_selector, cv = feature_folds, scoring = 'r2', n_jobs=-1)\n",
    "\n",
    "selector = selector.fit(features_train, np.ravel(labels_train))\n",
    "selector.support_\n",
    "\n",
    "print(\"Feature ranking after RFECV:\")\n",
    "print(selector.ranking_)\n",
    "\n",
    "# print the important features\n",
    "ranks_transform = list(np.transpose(selector.ranking_))\n",
    "chosen_features = [i for i,j in zip(feature_cols,ranks_transform) if j==1]\n",
    "print(\"Chosen important features:\")\n",
    "print(chosen_features)"
   ]
  },
  {
   "cell_type": "markdown",
   "metadata": {},
   "source": [
    "According to the feature rankings, the important parameters for this data set (with ranking 1) are 'cereal_yield', 'en_per_cap', 'pop_urb_aggl_perc', 'prot_area_perc', 'pop_growth_perc'.\n",
    "\n",
    "Consequently, only these will be kept for the further analysis for both the training and testing dataset (variables *features_train_reduced* and *features_test_reduced*):"
   ]
  },
  {
   "cell_type": "code",
   "execution_count": 11,
   "metadata": {},
   "outputs": [
    {
     "name": "stdout",
     "output_type": "stream",
     "text": [
      "Training subset shape before the recursive feature elimination:\n",
      "(505, 9)\n",
      "Training subset array shape after the recursive feature elimination:\n",
      "(505, 5)\n",
      "Test subset array shape after the recursive feature elimination:\n",
      "(1181, 5)\n"
     ]
    }
   ],
   "source": [
    "# assign only the important variables to the features array of both training and testing dataset\n",
    "features_train_reduced = selector.transform(features_train)\n",
    "features_test_reduced = selector.transform(features_test)\n",
    "\n",
    "print(\"Training subset shape before the recursive feature elimination:\")\n",
    "print(features_train.shape)\n",
    "print(\"Training subset array shape after the recursive feature elimination:\")\n",
    "print(features_train_reduced.shape)\n",
    "print(\"Test subset array shape after the recursive feature elimination:\")\n",
    "print(features_test_reduced.shape)"
   ]
  },
  {
   "cell_type": "markdown",
   "metadata": {},
   "source": [
    "***\n",
    "\n",
    "## 8. Hyperparameter tuning\n",
    "\n",
    "Random Forest is an algorithm with multiple hyperparameters which can have a range of values. In order to find the hyperparameters which would be most suitable for the current data, it is necessary to conduct hyperparameter tuning. The parameters which will be tuned in this case are:\n",
    "\n",
    "* n_estimators - number of decision trees in the random forest\n",
    "* max_features - number of features to consider at every split\n",
    "* max_depth - maximum number of levels in a tree\n",
    "* min_samples_split - minimum number of samples required to split a node\n",
    "* min_samples_leaf - minimum number of samples required at each leaf node\n",
    "\n",
    "The tuning is executed by applying a cross-validated evaluation of the model for different combinations of preliminary defined ranges for the parameters. The output is the model with the hyperparameters which exhibits the best R2 score compared to other parameter combinations."
   ]
  },
  {
   "cell_type": "markdown",
   "metadata": {},
   "source": [
    "Define the hyperparameter ranges to be investigated as a parameter grid (dictionary *param_grid*):"
   ]
  },
  {
   "cell_type": "code",
   "execution_count": 12,
   "metadata": {},
   "outputs": [],
   "source": [
    "# Define value ranges for each hyperparameter\n",
    "n_estimators = [int(x) for x in np.linspace(start = 200, stop = 2000, num = 10)]\n",
    "\n",
    "max_features = ['auto', 'sqrt']\n",
    "\n",
    "max_depth = [int(x) for x in np.linspace(10, 110, num = 11)]\n",
    "max_depth.append(None)\n",
    "\n",
    "min_samples_split = [2, 5, 10]\n",
    "\n",
    "min_samples_leaf = [1, 2, 4]\n",
    "\n",
    "# Create the hyperparameter grid\n",
    "param_grid = {'n_estimators': n_estimators,\n",
    "               'max_features': max_features,\n",
    "               'max_depth': max_depth,\n",
    "               'min_samples_split': min_samples_split,\n",
    "               'min_samples_leaf': min_samples_leaf}"
   ]
  },
  {
   "cell_type": "markdown",
   "metadata": {},
   "source": [
    "Define the RandomizedSearchCV object, which will evaluate the R2 scores of models with randomly picked combinations from the defined hyperparameter grid:"
   ]
  },
  {
   "cell_type": "code",
   "execution_count": 13,
   "metadata": {},
   "outputs": [],
   "source": [
    "# define the cross-validation folds for the hyperparameter tuning\n",
    "nr.seed(1)\n",
    "inside_folds = ms.KFold(n_splits=5, shuffle = True, random_state=random_state_num)\n",
    "\n",
    "# Define the random forest regressor model object\n",
    "rf_tuner = RandomForestRegressor(random_state=random_state_num)\n",
    "\n",
    "# Perform a randomized search on the grid\n",
    "nr.seed(1)\n",
    "rf_model = ms.RandomizedSearchCV(estimator=rf_tuner, param_distributions = param_grid,\n",
    "                                 random_state=random_state_num, refit=True,\n",
    "                                 cv=inside_folds, scoring = 'r2', return_train_score=True, n_jobs=-1)"
   ]
  },
  {
   "cell_type": "markdown",
   "metadata": {},
   "source": [
    "Once fitted to the training data, it will return a Random Forest model in the *best_estimator_* parameter with the hyperparameter combination which allows for the best r2 score for the current data among all the tested parameter combinations.\n",
    "\n",
    "It should be noted, that after the model with the best R2 score and thus best hyperparameter combination has been found, it will be refitted to the training data (notice the parameter *refit=True* of the *RandomizedSearchCV* object).\n",
    "\n",
    "Subsequently, the best hyperparameters are printed:"
   ]
  },
  {
   "cell_type": "code",
   "execution_count": 14,
   "metadata": {},
   "outputs": [
    {
     "name": "stdout",
     "output_type": "stream",
     "text": [
      "best number of estimators:\n",
      "1600\n",
      "best max_features:\n",
      "sqrt\n",
      "max_depth:\n",
      "20\n",
      "min_samples_split\n",
      "2\n",
      "min_samples_leaf\n",
      "1\n"
     ]
    }
   ],
   "source": [
    "# Fit the grid search model object with cross-validation on the data\n",
    "rf_model.fit(features_train_reduced, np.ravel(labels_train))\n",
    "\n",
    "# Print the best parameter value\n",
    "best_n_estimators = rf_model.best_estimator_.n_estimators\n",
    "best_max_features = rf_model.best_estimator_.max_features\n",
    "\n",
    "print(\"best number of estimators:\")\n",
    "print(best_n_estimators)\n",
    "print(\"best max_features:\")\n",
    "print(best_max_features)\n",
    "print(\"max_depth:\")\n",
    "print(rf_model.best_estimator_.max_depth)\n",
    "print(\"min_samples_split\")\n",
    "print(rf_model.best_estimator_.min_samples_split)\n",
    "print(\"min_samples_leaf\")\n",
    "print(rf_model.best_estimator_.min_samples_leaf)"
   ]
  },
  {
   "cell_type": "markdown",
   "metadata": {},
   "source": [
    "Assign the best model to the model variable *rf_best_model* to be used further:"
   ]
  },
  {
   "cell_type": "code",
   "execution_count": 15,
   "metadata": {},
   "outputs": [],
   "source": [
    "# pick the model with the best hyperparameter combination for further analysis\n",
    "rf_best_model = rf_model.best_estimator_"
   ]
  },
  {
   "cell_type": "markdown",
   "metadata": {},
   "source": [
    "***\n",
    "\n",
    "## 9. Evaluation of the model with the best hyperparameters on the training subset with cross-validation"
   ]
  },
  {
   "cell_type": "markdown",
   "metadata": {},
   "source": [
    "The random forest model object *rf_best_model* with the most important features and the most suitable hyperparameters will be now evaluated on the training subset with cross-validation first:"
   ]
  },
  {
   "cell_type": "code",
   "execution_count": 16,
   "metadata": {},
   "outputs": [
    {
     "name": "stdout",
     "output_type": "stream",
     "text": [
      "Mean R2 score of all CV folds = 0.968\n",
      "Standard deviation of the R2 score over all folds = 0.017\n",
      "R2 score for each fold:\n",
      "Fold  1    0.946\n",
      "Fold  2    0.963\n",
      "Fold  3    0.968\n",
      "Fold  4    0.982\n",
      "Fold  5    0.956\n",
      "Fold  6    0.935\n",
      "Fold  7    0.989\n",
      "Fold  8    0.983\n",
      "Fold  9    0.986\n",
      "Fold 10    0.972\n"
     ]
    }
   ],
   "source": [
    "# define the cross-validation folds for the evaluation\n",
    "nr.seed(1)\n",
    "outside_folds = ms.KFold(n_splits=10, shuffle = True, random_state=random_state_num)\n",
    "\n",
    "# Evaluate the model on the training subset with cross-validation\n",
    "nr.seed(1)\n",
    "cv_eval = cross_val_score(rf_best_model, features_train_reduced, labels_train, cv = outside_folds, n_jobs=-1)\n",
    "\n",
    "print('Mean R2 score of all CV folds = %4.3f' % np.mean(cv_eval))\n",
    "print('Standard deviation of the R2 score over all folds = %4.3f' % np.std(cv_eval))\n",
    "print('R2 score for each fold:')\n",
    "\n",
    "# print the R2 score for each fold\n",
    "for i, j in enumerate(cv_eval):\n",
    "    print('Fold %2d    %4.3f' % (i+1, j))"
   ]
  },
  {
   "cell_type": "markdown",
   "metadata": {},
   "source": [
    "At first, the high coefficient of determination R2=0.968 and the fact that the model has been trained and evaluated on the same training subset would suggest a strong overfitting. However, the training and evaluation on cross-validated folds improve the model generalization capabilities and the promising result of R2=0.968 stands for the mean R2 score for all folds.\n",
    "\n",
    "Additionally, each of the 10 folds exhibits  R2 scores between 0.935 and 0.989 with a very small standard deviation of 0.017. This shows that the model has achieved good predictions for all the folds without any particular one that stands out with a worse result."
   ]
  },
  {
   "cell_type": "markdown",
   "metadata": {},
   "source": [
    "***\n",
    "\n",
    "## 10. Validate the model on the testing subset\n",
    "\n",
    "Finally, the model should be validated on previously unseen data, which is the initially separated test subset. The developed model *rf_best_model* is used to predict the CO2 emissions per capita based on the features of the test subset. The quality of the predictions is evaluated by the metrics R2 score, Mean Squared Error and Root Mean Squared Error:"
   ]
  },
  {
   "cell_type": "code",
   "execution_count": 17,
   "metadata": {},
   "outputs": [
    {
     "name": "stdout",
     "output_type": "stream",
     "text": [
      "R2=\n",
      "0.968051196455394\n",
      "Mean Squared Error: MSE=\n",
      "0.6118032753831466\n",
      "Root Mean Squared Error: RMSE=\n",
      "0.7821785444405559\n"
     ]
    }
   ],
   "source": [
    "# make predictions from the features of the testing subset\n",
    "predictions = rf_best_model.predict(features_test_reduced)\n",
    "\n",
    "# import the functions for the metrics evaluation\n",
    "from sklearn.metrics import r2_score, mean_squared_error\n",
    "\n",
    "# calculate the metrics basing on the predicted and true values for the test subset\n",
    "r2 = r2_score(y_true=labels_test, y_pred=predictions)\n",
    "mse = mean_squared_error(y_true=labels_test, y_pred=predictions)\n",
    "rmse = np.sqrt(mse)\n",
    "\n",
    "print(\"R2=\")\n",
    "print(r2)\n",
    "print(\"Mean Squared Error: MSE=\")\n",
    "print(mse)\n",
    "print(\"Root Mean Squared Error: RMSE=\")\n",
    "print(rmse)"
   ]
  },
  {
   "cell_type": "markdown",
   "metadata": {},
   "source": [
    "The obtained R2 score of 0.968 might seem quite optimistic at first. However, following the measures have been taken to avoid overfitting and increase confidence of generalization:\n",
    "* dataset splitting with only 30% of the observations as a training subset\n",
    "* cross-calidation (during feature selection, hyperparameter tuning and the model training on the training subset)\n",
    "\n",
    "The MSE and RMSE results cannot be compared with the magnitude of the DV (from 0t to 20t).\n",
    "\n",
    "The quality of the predictions is additionally visualized in a regression plot depicting predicted values by the developed Random Forest model versus the true CO2 emissions per capita values (DV) from the test subset:"
   ]
  },
  {
   "cell_type": "code",
   "execution_count": 19,
   "metadata": {},
   "outputs": [
    {
     "data": {
      "image/png": "[encoded data removed]",
      "text/plain": [
       "<Figure size 1440x1080 with 1 Axes>"
      ]
     },
     "metadata": {},
     "output_type": "display_data"
    }
   ],
   "source": [
    "# plot predicted vs true values of the test subset\n",
    "\n",
    "f,ax=plt.subplots(figsize=(20,15))\n",
    "sns.set(font_scale=2)\n",
    "\n",
    "sns.regplot(x=predictions, y=np.transpose(labels_test)[0,:], fit_reg=True)\n",
    "plt.xlabel(\"CO2 emissions per capita [t] - predicted\")\n",
    "plt.ylabel(\"CO2 emissions per capita [t] - true\")\n",
    "plt.title(\"Correlation coefficient R=\"+str(round(np.corrcoef(predictions,np.transpose(labels_test)[0,:])[0,1],2)))\n",
    "plt.show()"
   ]
  },
  {
   "cell_type": "markdown",
   "metadata": {},
   "source": [
    "The predictions of the CO2 emissions correlate very well with their true values and their vast majority is observed on the regression line or in its immediate vicinity."
   ]
  },
  {
   "cell_type": "markdown",
   "metadata": {},
   "source": [
    "***\n",
    "\n",
    "## 11. Conclusions\n",
    "\n",
    "The following tasks have been successfully completed:\n",
    "1. Data overview\n",
    "4. Definition of dependent and independent variables\n",
    "5. Dataset splitting into training and testing subsets\n",
    "6. Feature selection by using recursive feature elimination with cross-validation\n",
    "7. Hyperparameter tuning of a random forest model with cross-validation\n",
    "8. Train and evaluate the model with the best hyperparameters on the training data with cross-validation\n",
    "9. Validate the model on the test subset (previously unseen data)\n",
    "\n",
    "During model development and training, all measures have been taken into account in order to ensure best possible generalization of the model on previously unseen data. Even in this case, the evaluation metrics yield the mean coefficient of determination of R2=0.968 on the cross-validated training set, as well as for each cross-validation fold. Moreover, the predictions from the test set feature data show a very promising correlation with the true values and a coefficient of determination of R2=0.968 as well. No particular outliers can be observed in the predictions plotted over the true values.\n",
    "\n",
    "Although no confidence or prediction interval, nor any kind of probability value for the predictions have been estimated, the significant size of the test subset of 1181 (train/test subset size ratio of 3:7) suggests that the model does not show overfitting on the training subset and generalizes well on previously unseen data.\n",
    "\n",
    "To sum up, **the used data allows the prediction of CO2 emissions per capita for a certain country over a year from the country-specific features 'cereal_yield', 'prot_area_perc', energy use per capita, cereal yield, nationally terestrial protected area percentage, percentage of population in urban agglomerations and percentage of population growth per year with a precision of R2=96.8%.**\n",
    "\n",
    "\n",
    "***\n",
    "\n",
    "Copyright (c) 2020 Vladislav Todorov"
   ]
  }
 ],
 "metadata": {
  "kernelspec": {
   "display_name": "Python 3",
   "language": "python",
   "name": "python3"
  },
  "language_info": {
   "codemirror_mode": {
    "name": "ipython",
    "version": 3
   },
   "file_extension": ".py",
   "mimetype": "text/x-python",
   "name": "python",
   "nbconvert_exporter": "python",
   "pygments_lexer": "ipython3",
   "version": "3.7.3"
  }
 },
 "nbformat": 4,
 "nbformat_minor": 2
}
